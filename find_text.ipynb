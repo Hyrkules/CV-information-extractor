{
 "cells": [
  {
   "cell_type": "code",
   "execution_count": 89,
   "metadata": {},
   "outputs": [
    {
     "name": "stdout",
     "output_type": "stream",
     "text": [
      "Note: you may need to restart the kernel to use updated packages.\n"
     ]
    },
    {
     "name": "stderr",
     "output_type": "stream",
     "text": [
      "WARNING: You are using pip version 21.2.3; however, version 24.2 is available.\n",
      "You should consider upgrading via the 'c:\\Users\\helou\\AppData\\Local\\Programs\\Python\\Python310\\python.exe -m pip install --upgrade pip' command.\n"
     ]
    },
    {
     "name": "stdout",
     "output_type": "stream",
     "text": [
      "Note: you may need to restart the kernel to use updated packages.\n"
     ]
    },
    {
     "name": "stderr",
     "output_type": "stream",
     "text": [
      "WARNING: You are using pip version 21.2.3; however, version 24.2 is available.\n",
      "You should consider upgrading via the 'c:\\Users\\helou\\AppData\\Local\\Programs\\Python\\Python310\\python.exe -m pip install --upgrade pip' command.\n"
     ]
    },
    {
     "name": "stdout",
     "output_type": "stream",
     "text": [
      "Note: you may need to restart the kernel to use updated packages.\n"
     ]
    },
    {
     "name": "stderr",
     "output_type": "stream",
     "text": [
      "WARNING: You are using pip version 21.2.3; however, version 24.2 is available.\n",
      "You should consider upgrading via the 'c:\\Users\\helou\\AppData\\Local\\Programs\\Python\\Python310\\python.exe -m pip install --upgrade pip' command.\n"
     ]
    },
    {
     "name": "stdout",
     "output_type": "stream",
     "text": [
      "Note: you may need to restart the kernel to use updated packages.\n"
     ]
    },
    {
     "name": "stderr",
     "output_type": "stream",
     "text": [
      "WARNING: You are using pip version 21.2.3; however, version 24.2 is available.\n",
      "You should consider upgrading via the 'c:\\Users\\helou\\AppData\\Local\\Programs\\Python\\Python310\\python.exe -m pip install --upgrade pip' command.\n"
     ]
    },
    {
     "name": "stdout",
     "output_type": "stream",
     "text": [
      "Note: you may need to restart the kernel to use updated packages.\n"
     ]
    },
    {
     "name": "stderr",
     "output_type": "stream",
     "text": [
      "WARNING: You are using pip version 21.2.3; however, version 24.2 is available.\n",
      "You should consider upgrading via the 'c:\\Users\\helou\\AppData\\Local\\Programs\\Python\\Python310\\python.exe -m pip install --upgrade pip' command.\n"
     ]
    },
    {
     "name": "stdout",
     "output_type": "stream",
     "text": [
      "Note: you may need to restart the kernel to use updated packages.\n"
     ]
    },
    {
     "name": "stderr",
     "output_type": "stream",
     "text": [
      "WARNING: You are using pip version 21.2.3; however, version 24.2 is available.\n",
      "You should consider upgrading via the 'c:\\Users\\helou\\AppData\\Local\\Programs\\Python\\Python310\\python.exe -m pip install --upgrade pip' command.\n"
     ]
    },
    {
     "name": "stdout",
     "output_type": "stream",
     "text": [
      "Note: you may need to restart the kernel to use updated packages.\n"
     ]
    },
    {
     "name": "stderr",
     "output_type": "stream",
     "text": [
      "WARNING: You are using pip version 21.2.3; however, version 24.2 is available.\n",
      "You should consider upgrading via the 'c:\\Users\\helou\\AppData\\Local\\Programs\\Python\\Python310\\python.exe -m pip install --upgrade pip' command.\n"
     ]
    },
    {
     "name": "stdout",
     "output_type": "stream",
     "text": [
      "Note: you may need to restart the kernel to use updated packages.\n"
     ]
    },
    {
     "name": "stderr",
     "output_type": "stream",
     "text": [
      "WARNING: You are using pip version 21.2.3; however, version 24.2 is available.\n",
      "You should consider upgrading via the 'c:\\Users\\helou\\AppData\\Local\\Programs\\Python\\Python310\\python.exe -m pip install --upgrade pip' command.\n"
     ]
    },
    {
     "name": "stdout",
     "output_type": "stream",
     "text": [
      "Looking in indexes: https://pypi.org/simple, https://pypi.ngc.nvidia.com\n",
      "Requirement already satisfied: sentence-transformers in c:\\users\\helou\\appdata\\local\\programs\\python\\python310\\lib\\site-packages (3.2.0)\n",
      "Requirement already satisfied: scipy in c:\\users\\helou\\appdata\\local\\programs\\python\\python310\\lib\\site-packages (from sentence-transformers) (1.14.1)\n",
      "Requirement already satisfied: tqdm in c:\\users\\helou\\appdata\\local\\programs\\python\\python310\\lib\\site-packages (from sentence-transformers) (4.66.5)\n",
      "Requirement already satisfied: huggingface-hub>=0.20.0 in c:\\users\\helou\\appdata\\local\\programs\\python\\python310\\lib\\site-packages (from sentence-transformers) (0.25.2)\n",
      "Requirement already satisfied: Pillow in c:\\users\\helou\\appdata\\local\\programs\\python\\python310\\lib\\site-packages (from sentence-transformers) (10.4.0)\n",
      "Requirement already satisfied: scikit-learn in c:\\users\\helou\\appdata\\local\\programs\\python\\python310\\lib\\site-packages (from sentence-transformers) (1.5.2)\n",
      "Requirement already satisfied: torch>=1.11.0 in c:\\users\\helou\\appdata\\local\\programs\\python\\python310\\lib\\site-packages (from sentence-transformers) (2.4.1)\n",
      "Requirement already satisfied: transformers<5.0.0,>=4.41.0 in c:\\users\\helou\\appdata\\local\\programs\\python\\python310\\lib\\site-packages (from sentence-transformers) (4.45.2)\n",
      "Requirement already satisfied: filelock in c:\\users\\helou\\appdata\\local\\programs\\python\\python310\\lib\\site-packages (from huggingface-hub>=0.20.0->sentence-transformers) (3.16.1)\n",
      "Requirement already satisfied: pyyaml>=5.1 in c:\\users\\helou\\appdata\\local\\programs\\python\\python310\\lib\\site-packages (from huggingface-hub>=0.20.0->sentence-transformers) (6.0.2)\n",
      "Requirement already satisfied: requests in c:\\users\\helou\\appdata\\local\\programs\\python\\python310\\lib\\site-packages (from huggingface-hub>=0.20.0->sentence-transformers) (2.32.3)\n",
      "Requirement already satisfied: typing-extensions>=3.7.4.3 in c:\\users\\helou\\appdata\\roaming\\python\\python310\\site-packages (from huggingface-hub>=0.20.0->sentence-transformers) (4.12.2)\n",
      "Requirement already satisfied: fsspec>=2023.5.0 in c:\\users\\helou\\appdata\\local\\programs\\python\\python310\\lib\\site-packages (from huggingface-hub>=0.20.0->sentence-transformers) (2024.9.0)\n",
      "Requirement already satisfied: packaging>=20.9 in c:\\users\\helou\\appdata\\roaming\\python\\python310\\site-packages (from huggingface-hub>=0.20.0->sentence-transformers) (24.1)\n",
      "Requirement already satisfied: networkx in c:\\users\\helou\\appdata\\local\\programs\\python\\python310\\lib\\site-packages (from torch>=1.11.0->sentence-transformers) (3.4.1)\n",
      "Requirement already satisfied: sympy in c:\\users\\helou\\appdata\\local\\programs\\python\\python310\\lib\\site-packages (from torch>=1.11.0->sentence-transformers) (1.13.3)\n",
      "Requirement already satisfied: jinja2 in c:\\users\\helou\\appdata\\local\\programs\\python\\python310\\lib\\site-packages (from torch>=1.11.0->sentence-transformers) (3.1.4)\n",
      "Requirement already satisfied: colorama in c:\\users\\helou\\appdata\\roaming\\python\\python310\\site-packages (from tqdm->sentence-transformers) (0.4.6)\n",
      "Requirement already satisfied: numpy>=1.17 in c:\\users\\helou\\appdata\\local\\programs\\python\\python310\\lib\\site-packages (from transformers<5.0.0,>=4.41.0->sentence-transformers) (1.26.4)\n",
      "Requirement already satisfied: tokenizers<0.21,>=0.20 in c:\\users\\helou\\appdata\\local\\programs\\python\\python310\\lib\\site-packages (from transformers<5.0.0,>=4.41.0->sentence-transformers) (0.20.1)\n",
      "Requirement already satisfied: regex!=2019.12.17 in c:\\users\\helou\\appdata\\local\\programs\\python\\python310\\lib\\site-packages (from transformers<5.0.0,>=4.41.0->sentence-transformers) (2024.9.11)\n",
      "Requirement already satisfied: safetensors>=0.4.1 in c:\\users\\helou\\appdata\\local\\programs\\python\\python310\\lib\\site-packages (from transformers<5.0.0,>=4.41.0->sentence-transformers) (0.4.5)\n",
      "Requirement already satisfied: MarkupSafe>=2.0 in c:\\users\\helou\\appdata\\local\\programs\\python\\python310\\lib\\site-packages (from jinja2->torch>=1.11.0->sentence-transformers) (3.0.1)\n",
      "Requirement already satisfied: idna<4,>=2.5 in c:\\users\\helou\\appdata\\local\\programs\\python\\python310\\lib\\site-packages (from requests->huggingface-hub>=0.20.0->sentence-transformers) (3.10)\n",
      "Requirement already satisfied: urllib3<3,>=1.21.1 in c:\\users\\helou\\appdata\\local\\programs\\python\\python310\\lib\\site-packages (from requests->huggingface-hub>=0.20.0->sentence-transformers) (2.2.3)\n",
      "Requirement already satisfied: charset-normalizer<4,>=2 in c:\\users\\helou\\appdata\\local\\programs\\python\\python310\\lib\\site-packages (from requests->huggingface-hub>=0.20.0->sentence-transformers) (3.4.0)\n",
      "Requirement already satisfied: certifi>=2017.4.17 in c:\\users\\helou\\appdata\\local\\programs\\python\\python310\\lib\\site-packages (from requests->huggingface-hub>=0.20.0->sentence-transformers) (2024.8.30)\n",
      "Requirement already satisfied: joblib>=1.2.0 in c:\\users\\helou\\appdata\\local\\programs\\python\\python310\\lib\\site-packages (from scikit-learn->sentence-transformers) (1.4.2)\n",
      "Requirement already satisfied: threadpoolctl>=3.1.0 in c:\\users\\helou\\appdata\\local\\programs\\python\\python310\\lib\\site-packages (from scikit-learn->sentence-transformers) (3.5.0)\n",
      "Requirement already satisfied: mpmath<1.4,>=1.1.0 in c:\\users\\helou\\appdata\\local\\programs\\python\\python310\\lib\\site-packages (from sympy->torch>=1.11.0->sentence-transformers) (1.3.0)\n",
      "Note: you may need to restart the kernel to use updated packages.\n"
     ]
    },
    {
     "name": "stderr",
     "output_type": "stream",
     "text": [
      "WARNING: You are using pip version 21.2.3; however, version 24.2 is available.\n",
      "You should consider upgrading via the 'c:\\Users\\helou\\AppData\\Local\\Programs\\Python\\Python310\\python.exe -m pip install --upgrade pip' command.\n"
     ]
    },
    {
     "name": "stdout",
     "output_type": "stream",
     "text": [
      "Looking in indexes: https://pypi.org/simple, https://pypi.ngc.nvidia.com\n",
      "Requirement already satisfied: pdf2image in c:\\users\\helou\\appdata\\local\\programs\\python\\python310\\lib\\site-packages (1.17.0)\n",
      "Requirement already satisfied: pillow in c:\\users\\helou\\appdata\\local\\programs\\python\\python310\\lib\\site-packages (from pdf2image) (10.4.0)\n",
      "Note: you may need to restart the kernel to use updated packages.\n"
     ]
    },
    {
     "name": "stderr",
     "output_type": "stream",
     "text": [
      "WARNING: You are using pip version 21.2.3; however, version 24.2 is available.\n",
      "You should consider upgrading via the 'c:\\Users\\helou\\AppData\\Local\\Programs\\Python\\Python310\\python.exe -m pip install --upgrade pip' command.\n"
     ]
    },
    {
     "name": "stdout",
     "output_type": "stream",
     "text": [
      "Looking in indexes: https://pypi.org/simple, https://pypi.ngc.nvidia.com\n",
      "Collecting pytesseract\n",
      "  Downloading pytesseract-0.3.13-py3-none-any.whl (14 kB)\n",
      "Requirement already satisfied: packaging>=21.3 in c:\\users\\helou\\appdata\\roaming\\python\\python310\\site-packages (from pytesseract) (24.1)\n",
      "Requirement already satisfied: Pillow>=8.0.0 in c:\\users\\helou\\appdata\\local\\programs\\python\\python310\\lib\\site-packages (from pytesseract) (10.4.0)\n",
      "Installing collected packages: pytesseract\n",
      "Successfully installed pytesseract-0.3.13\n",
      "Note: you may need to restart the kernel to use updated packages.\n"
     ]
    },
    {
     "name": "stderr",
     "output_type": "stream",
     "text": [
      "  WARNING: The script pytesseract.exe is installed in 'c:\\Users\\helou\\AppData\\Local\\Programs\\Python\\Python310\\Scripts' which is not on PATH.\n",
      "  Consider adding this directory to PATH or, if you prefer to suppress this warning, use --no-warn-script-location.\n",
      "WARNING: You are using pip version 21.2.3; however, version 24.2 is available.\n",
      "You should consider upgrading via the 'c:\\Users\\helou\\AppData\\Local\\Programs\\Python\\Python310\\python.exe -m pip install --upgrade pip' command.\n"
     ]
    }
   ],
   "source": [
    "# Local vector store via Chroma\n",
    "%pip install -qU langchain_chroma\n",
    "\n",
    "# Local inference and embeddings via Ollama\n",
    "%pip install -qU langchain_ollama\n",
    "\n",
    "# Web Loader\n",
    "%pip install -qU beautifulsoup4\n",
    "\n",
    "# Document loading, retrieval methods and text splitting\n",
    "%pip install -qU langchain langchain_community\n",
    "\n",
    "# Local vector store via Chroma\n",
    "%pip install -qU langchain_chroma\n",
    "\n",
    "# Local inference and embeddings via Ollama\n",
    "%pip install -qU langchain_ollama\n",
    "\n",
    "# Web Loader\n",
    "%pip install -qU beautifulsoup4\n",
    "\n",
    "%pip install -qU pypdf\n",
    "\n",
    "%pip install sentence-transformers\n",
    "\n",
    "%pip install pdf2image\n",
    "\n",
    "%pip install pytesseract"
   ]
  },
  {
   "cell_type": "code",
   "execution_count": 16,
   "metadata": {},
   "outputs": [],
   "source": [
    "from pdf2image import convert_from_path\n",
    "\n",
    "# Store Pdf with convert_from_path function\n",
    "images = convert_from_path('./my_cv.pdf', poppler_path = r\"D:\\Users\\helou\\Downloads\\poppler-24.08.0\\Library\\bin\")\n",
    "\n",
    "for i in range(len(images)):\n",
    "  \n",
    "      # Save pages as images in the pdf\n",
    "    images[i].save('cv_image'+'.jpg', 'JPEG')"
   ]
  },
  {
   "cell_type": "code",
   "execution_count": 69,
   "metadata": {},
   "outputs": [],
   "source": [
    "from PIL import Image, ImageDraw\n",
    "\n",
    "# Load the image\n",
    "image_path = \"cv_image.jpg\"\n",
    "img = Image.open(image_path)\n",
    "\n",
    "# Create a drawing object\n",
    "draw = ImageDraw.Draw(img)\n",
    "\n",
    "# Define the specific coordinates for the 5 parts you want to extract\n",
    "# Example coordinates for splitting into 5 parts\n",
    "part1_coords = (0, 0, 700, 260)         # First 1/5th part\n",
    "part2_coords = (100, 290, 1500, 460)   # Second 1/5th part\n",
    "part3_coords = (0, 460, 800, 1600) # Third 1/5th part\n",
    "part4_coords = (0, 1600, 800, 2300) # Third 1/5th part\n",
    "part5_coords = (860, 460, 1600, 1600) # Third 1/5th part\n",
    "part6_coords = (860, 1600, 1600, 2300) # Third 1/5th part\n",
    "\n",
    "# Draw rectangles on the image\n",
    "rectangles = [part1_coords, part2_coords, part3_coords, part4_coords, part5_coords, part6_coords]#, part5_coords]\n",
    "for rect in rectangles:\n",
    "    draw.rectangle(rect, outline=\"red\", width=5)  # Draw rectangles with red outline\n",
    "\n",
    "# Show the image with rectangles\n",
    "img.show()\n",
    "\n",
    "# Optionally, save the image with rectangles for reference\n",
    "img.save(\"image_with_rectangles.jpeg\")\n"
   ]
  },
  {
   "cell_type": "code",
   "execution_count": 73,
   "metadata": {},
   "outputs": [
    {
     "name": "stdout",
     "output_type": "stream",
     "text": [
      "Images have been saved successfully.\n"
     ]
    }
   ],
   "source": [
    "from PIL import Image\n",
    "\n",
    "# Load the image\n",
    "image_path = \"cv_image.jpg\"\n",
    "img = Image.open(image_path)\n",
    "\n",
    "# Define the specific coordinates for the 5 parts you want to extract\n",
    "# You can change these based on the dimensions of your image and the parts you want\n",
    "# Each part is a tuple (left, upper, right, lower) representing a box\n",
    "# Adjust these coordinates according to your specific requirements\n",
    "\n",
    "# Example coordinates for splitting into 5 parts\n",
    "part1_coords = (0, 0, 700, 260)         # First 1/5th part\n",
    "part2_coords = (100, 290, 1500, 460)   # Second 1/5th part\n",
    "part3_coords = (0, 460, 800, 1600) # Third 1/5th part\n",
    "part4_coords = (0, 1600, 800, 2300) # Third 1/5th part\n",
    "part5_coords = (860, 460, 1600, 1600) # Third 1/5th part\n",
    "part6_coords = (860, 1600, 1600, 2300) # Third 1/5th part\n",
    "\n",
    "# Crop the image based on the defined coordinates\n",
    "part1 = img.crop(part1_coords)\n",
    "part2 = img.crop(part2_coords)\n",
    "part3 = img.crop(part3_coords)\n",
    "part4 = img.crop(part4_coords)\n",
    "part5 = img.crop(part5_coords)\n",
    "part6 = img.crop(part6_coords)\n",
    "\n",
    "# Save each part as a separate image\n",
    "part1.save(\"images/part1.jpeg\")\n",
    "part2.save(\"images/part2.jpeg\")\n",
    "part3.save(\"images/part3.jpeg\")\n",
    "part4.save(\"images/part4.jpeg\")\n",
    "part5.save(\"images/part5.jpeg\")\n",
    "part6.save(\"images/part6.jpeg\")\n",
    "\n",
    "print(\"Images have been saved successfully.\")"
   ]
  },
  {
   "cell_type": "code",
   "execution_count": 10,
   "metadata": {},
   "outputs": [
    {
     "name": "stdout",
     "output_type": "stream",
     "text": [
      "Extracted text from cv_part_1 page 1 and saved to ./extracted_text/page_1.txt\n",
      "Extracted text from cv_part_2 page 1 and saved to ./extracted_text/page_2.txt\n",
      "Extracted text from cv_part_3 page 1 and saved to ./extracted_text/page_3.txt\n",
      "Extracted text from cv_part_4 page 1 and saved to ./extracted_text/page_4.txt\n",
      "Extracted text from cv_part_5 page 1 and saved to ./extracted_text/page_5.txt\n",
      "Extracted text from cv_part_6 page 1 and saved to ./extracted_text/page_6.txt\n"
     ]
    }
   ],
   "source": [
    "from pdf2image import convert_from_path\n",
    "import pytesseract\n",
    "import os\n",
    "\n",
    "pytesseract.pytesseract.tesseract_cmd = r'C:\\Program Files\\Tesseract-OCR\\tesseract.exe'\n",
    "\n",
    "# Base path where your PDFs are located\n",
    "pdf_base_path = \"./\"  # Adjust the path to your folder if needed\n",
    "\n",
    "# Define the number of parts (e.g., 6 parts in total)\n",
    "num_parts = 6\n",
    "\n",
    "# Loop over each part (assuming the files are named cv_part_1.pdf, cv_part_2.pdf, etc.)\n",
    "for part_num in range(1, num_parts + 1):\n",
    "    pdf_filename = f\"cv_part_{part_num}.pdf\"\n",
    "    pdf_path = os.path.join(pdf_base_path, pdf_filename)\n",
    "    \n",
    "    if not os.path.exists(pdf_path):\n",
    "        print(f\"File {pdf_filename} not found, skipping.\")\n",
    "        continue\n",
    "    \n",
    "    # Convert PDF pages to images\n",
    "    pages = convert_from_path(pdf_path)\n",
    "    \n",
    "    # Directory to save extracted text files for this part\n",
    "    output_dir = f\"./extracted_text/\"\n",
    "    os.makedirs(output_dir, exist_ok=True)\n",
    "    \n",
    "    # Loop over each page, convert it to text, and save the text to a file\n",
    "    for i, page in enumerate(pages):\n",
    "        # Use pytesseract to extract text from the image\n",
    "        text = pytesseract.image_to_string(page)\n",
    "        \n",
    "        # Save the text in a separate file\n",
    "        output_file = os.path.join(output_dir, f\"page_{part_num}.txt\")\n",
    "        with open(output_file, \"w\", encoding=\"utf-8\") as f:\n",
    "            f.write(text)\n",
    "        \n",
    "        print(f\"Extracted text from cv_part_{part_num} page {i+1} and saved to {output_file}\")\n"
   ]
  },
  {
   "cell_type": "code",
   "execution_count": 3,
   "metadata": {},
   "outputs": [],
   "source": [
    "from langchain.document_loaders import DirectoryLoader, TextLoader\n",
    "\n",
    "path = './extracted_text/'\n",
    "loader = DirectoryLoader(path, glob='**/*.txt', loader_cls=TextLoader)\n",
    "docs = loader.load()"
   ]
  },
  {
   "cell_type": "code",
   "execution_count": 5,
   "metadata": {},
   "outputs": [],
   "source": [
    "from langchain_text_splitters import RecursiveCharacterTextSplitter\n",
    "\n",
    "text_splitter = RecursiveCharacterTextSplitter(chunk_size=500, chunk_overlap=0)\n",
    "all_splits = text_splitter.split_documents(docs)"
   ]
  },
  {
   "cell_type": "code",
   "execution_count": 6,
   "metadata": {},
   "outputs": [
    {
     "data": {
      "text/plain": [
       "[Document(metadata={'source': 'extracted_text\\\\page_1.txt'}, page_content=\"Helouri BEUCHERIE\\n\\n23 ans\\n\\nVilleneuve d'Ascq\\nTÃ©lÃ©phone : 06 95 27 69 42\\n\\nMail : helouribeucherie@gmail.com\\nPermis B\"),\n",
       " Document(metadata={'source': 'extracted_text\\\\page_2.txt'}, page_content=\"Dipl6mÃ© en master intelligence artificielle passionnÃ© par l'innovation, je suis motivÃ© par la\\nrecherche de nouvelles idÃ©es et solutions. Avec une solide formation et un intÃ©rÃ©t profond pour\\nce domaine, je suis enthousiaste a l'idÃ©e de contribuer a des projets de recherche et de\\ndÃ©veloppement.\"),\n",
       " Document(metadata={'source': 'extracted_text\\\\page_3.txt'}, page_content='2022-2024:\\nCrÃ©dit Agricole (alternance)\\nData Scientist\\nGagnant du Challenge Innovation CrÃ©dit Agricole\\nExploitation de solutions IA open source\\nCrÃ©ation dâ€™outils de computer vision :\\nReconnaissance faciale et ocÃ©risation\\nCrÃ©ation dâ€™une application mobile avec AWS/Flutter\\nVulgarisation des codes et introduction a des concepts\\ndâ€™intelligence artificielle en francais et anglais\\nUtilisation de LLM sur des use cases spÃ©cifiques\\n\\nDe septembre a aout 2021-2022:'),\n",
       " Document(metadata={'source': 'extracted_text\\\\page_3.txt'}, page_content='CoopÃ©rative des Tilleuls (alternance)\\nDÃ©veloppeur back et front end\\nCrÃ©ation de sites Web avec des frameworks tels que React ou\\nSymfony\\nGestion dâ€™api PHP\\nProjets en mode AGILE\\n\\nJuillet 2020 :\\n\\nAdeo Service (stage)\\n\\nSÃ©curitÃ©, monitoring et gestion de base de donnÃ©es\\nDÃ©veloppement dâ€™un systÃ©me dâ€™envoi dâ€™url cryptÃ©e avec Google\\n\\nCloud Plateform\\n\\nAnnÃ©e scolaire 2020-2021 :\\n\\nUniversitÃ© Catholique de Lille\\nVice-trÃ©sorier de lâ€™association Acâ€™Lab'),\n",
       " Document(metadata={'source': 'extracted_text\\\\page_4.txt'}, page_content='Pratique sportive :\\n\\nBasketball : 8 ans en club\\nVolleyball : 3 ans en club\\nMusique :\\n\\nPratique de la batterie\\nCrÃ©ation de musique (logiciel Imms)\\nPratique du violon\\nJeux-vidÃ©os :\\n\\nJeux dâ€™Ã©quipes\\nJeux de rÃ©flexions\\nVoyages :\\nVoyages internationaux'),\n",
       " Document(metadata={'source': 'extracted_text\\\\page_5.txt'}, page_content='Data :\\nUtilisation courante de python\\nAisance oral et capacitÃ©s de synthÃ©ses\\nConnaissance en SQL\\nConnaissance en R\\nSite et applications dÃ©veloppÃ©e en cloud avec Azure et AWS\\nUtilisation de ChatBot et IA gÃ©nÃ©ratives\\nModÃ©lisation\\n\\nDÃ©veloppement Web :\\nCrÃ©ation de site web php, html et css\\nCrÃ©ation de sites web en utilisant symfony\\nCrÃ©ation de sites web en utilisant les frameworks Vue, Reac\\nWordpress'),\n",
       " Document(metadata={'source': 'extracted_text\\\\page_5.txt'}, page_content='Mes projets personnels :\\nCrÃ©ation dâ€™une application en utilisant flutter avec gestion\\ndâ€™une Ã©quipe de 3 dÃ©veloppeurs\\nCrÃ©ation de bots discord en python\\nSite web perso avec AWS\\nSite de veille technologique Azure/Vue.js\\nRecherche sur la dÃ©tection dâ€™Ã©motion en VR\\n\\nLANGUES :\\nAnglais : lu et parlÃ© (niveau B2)'),\n",
       " Document(metadata={'source': 'extracted_text\\\\page_6.txt'}, page_content='Data :\\nUtilisation courante de python\\nAisance oral et capacitÃ©s de synthÃ©ses\\nConnaissance en SQL\\nConnaissance en R\\nSite et applications dÃ©veloppÃ©e en cloud avec Azure et AWS\\nUtilisation de ChatBot et IA gÃ©nÃ©ratives\\nModÃ©lisation\\n\\nDÃ©veloppement Web :\\nCrÃ©ation de site web php, html et css\\nCrÃ©ation de sites web en utilisant symfony\\nCrÃ©ation de sites web en utilisant les frameworks Vue, Reac\\nWordpress'),\n",
       " Document(metadata={'source': 'extracted_text\\\\page_6.txt'}, page_content='Mes projets personnels :\\nCrÃ©ation dâ€™une application en utilisant flutter avec gestion\\ndâ€™une Ã©quipe de 3 dÃ©veloppeurs\\nCrÃ©ation de bots discord en python\\nSite web perso avec AWS\\nSite de veille technologique Azure/Vue.js\\nRecherche sur la dÃ©tection dâ€™Ã©motion en VR\\n\\nLANGUES :\\nAnglais : lu et parlÃ© (niveau B2)')]"
      ]
     },
     "execution_count": 6,
     "metadata": {},
     "output_type": "execute_result"
    }
   ],
   "source": [
    "all_splits"
   ]
  },
  {
   "cell_type": "code",
   "execution_count": 7,
   "metadata": {},
   "outputs": [],
   "source": [
    "from langchain.embeddings import HuggingFaceEmbeddings\n",
    "from langchain_chroma import Chroma\n",
    "\n",
    "hf_embeddings = HuggingFaceEmbeddings(model_name=\"sentence-transformers/all-MiniLM-L6-v2\")\n",
    "vectorstore = Chroma.from_documents(documents=all_splits, embedding=hf_embeddings)"
   ]
  },
  {
   "cell_type": "code",
   "execution_count": 8,
   "metadata": {},
   "outputs": [
    {
     "data": {
      "text/plain": [
       "6"
      ]
     },
     "execution_count": 8,
     "metadata": {},
     "output_type": "execute_result"
    }
   ],
   "source": [
    "retriever = vectorstore.as_retriever(search_type=\"similarity\", search_kwargs={\"k\": 6})\n",
    "\n",
    "retrieved_docs = retriever.invoke(\"how hold is the cv holder ?\")\n",
    "\n",
    "len(retrieved_docs)"
   ]
  },
  {
   "cell_type": "code",
   "execution_count": 9,
   "metadata": {},
   "outputs": [
    {
     "name": "stdout",
     "output_type": "stream",
     "text": [
      "Helouri BEUCHERIE\n",
      "\n",
      "23 ans\n",
      "\n",
      "Villeneuve d'Ascq\n",
      "TÃ©lÃ©phone : 06 95 27 69 42\n",
      "\n",
      "Mail : helouribeucherie@gmail.com\n",
      "Permis B\n"
     ]
    }
   ],
   "source": [
    "print(retrieved_docs[0].page_content)"
   ]
  },
  {
   "cell_type": "code",
   "execution_count": null,
   "metadata": {},
   "outputs": [],
   "source": []
  }
 ],
 "metadata": {
  "kernelspec": {
   "display_name": "Python 3",
   "language": "python",
   "name": "python3"
  },
  "language_info": {
   "codemirror_mode": {
    "name": "ipython",
    "version": 3
   },
   "file_extension": ".py",
   "mimetype": "text/x-python",
   "name": "python",
   "nbconvert_exporter": "python",
   "pygments_lexer": "ipython3",
   "version": "3.10.0"
  }
 },
 "nbformat": 4,
 "nbformat_minor": 2
}
